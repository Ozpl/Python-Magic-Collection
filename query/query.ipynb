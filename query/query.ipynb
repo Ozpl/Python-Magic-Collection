{
 "cells": [
  {
   "cell_type": "code",
   "execution_count": 131,
   "metadata": {},
   "outputs": [],
   "source": [
    "QUERY_TRANSLATE = [\n",
    "    {\n",
    "        \"table_name\": \"colors\",\n",
    "        \"table_type\": \"array\",\n",
    "        \"query_command\": [\"color\", \"c\"]\n",
    "    },\n",
    "\n",
    "    {\n",
    "        \"table_name\": \"color_identity\",\n",
    "        \"table_type\": \"array\",\n",
    "        \"query_command\": [\"id\", \"identity\"]\n",
    "    },\n",
    "\n",
    "    {\n",
    "        \"table_name\": \"main\",\n",
    "        \"table_type\": \"main\",\n",
    "        \"columns\": [{'name': 'type_line', 'type': 'string'}],\n",
    "        \"query_command\": [\"t\", \"type\"]\n",
    "    },\n",
    "\n",
    "    {\n",
    "        \"table_name\": \"main\",\n",
    "        \"table_type\": \"main\",\n",
    "        \"columns\": [{'name': '\"set\"', 'type': 'string'}, {'name':'set_name', 'type': 'string'}],\n",
    "        \"query_command\": [\"e\", \"edition\", \"s\", \"set\"]\n",
    "    },\n",
    "\n",
    "    {\n",
    "        \"table_name\": \"main\",\n",
    "        \"table_type\": \"main\",\n",
    "        \"columns\": [{'name': 'rarity', 'type': 'string'}],\n",
    "        \"query_command\": [\"r\", \"rarity\"]\n",
    "    },\n",
    "\n",
    "    {\n",
    "        \"table_name\": \"main\",\n",
    "        \"table_type\": \"main\",\n",
    "        \"columns\": [{'name': 'cmc', 'type': 'float'}],\n",
    "        \"query_command\": [\"cmc\", \"mv\", \"manavalue\"]\n",
    "    },\n",
    "\n",
    "    {\n",
    "        \"table_name\": \"main\",\n",
    "        \"table_type\": \"main\",\n",
    "        \"columns\": [{'name': 'oracle_text', 'type': 'string'}],\n",
    "        \"query_command\": [\"o\", \"oracle\"]\n",
    "    },\n",
    "\n",
    "    {\n",
    "        \"table_name\": \"prices\",\n",
    "        \"table_type\": \"object\",\n",
    "        \"columns\": [{'name': 'usd', 'type': 'float'}, {'name':'eur', 'type': 'float'}, {'name':'tix', 'type': 'float'}],\n",
    "        \"query_command\": [\"eur\", \"usd\", \"tix\"]\n",
    "    },\n",
    "\n",
    "    {\n",
    "        \"table_name\": \"games\",\n",
    "        \"table_type\": \"array\",\n",
    "        \"query_command\": [\"game\"]\n",
    "    },\n",
    "\n",
    "    {\n",
    "        \"table_name\": \"keywords\",\n",
    "        \"table_type\": \"array\",\n",
    "        \"query_command\": [\"keyword\"]\n",
    "    },\n",
    "\n",
    "    {\n",
    "        \"table_name\": \"main\",\n",
    "        \"table_type\": \"main\",\n",
    "        \"columns\": [{'name': 'released_at', 'type': 'datetime'}],\n",
    "        \"query_command\": [\"date\", \"year\"]\n",
    "    },\n",
    "\n",
    "]"
   ]
  },
  {
   "cell_type": "code",
   "execution_count": 4,
   "metadata": {},
   "outputs": [],
   "source": [
    "def decide_operator(query_string):\n",
    "    operator = \"\"\n",
    "    if \">=\" in query_string:\n",
    "        operator = \">=\"\n",
    "    elif \"<=\" in query_string:\n",
    "        operator = \"<=\"\n",
    "    elif \">\" in query_string:\n",
    "        operator = \">\"\n",
    "    elif \"<\" in query_string:\n",
    "        operator = \"<\"\n",
    "    elif \":\" in query_string:\n",
    "        operator = \":\"\n",
    "\n",
    "    return operator"
   ]
  },
  {
   "cell_type": "code",
   "execution_count": 280,
   "metadata": {},
   "outputs": [],
   "source": [
    "def handle_query_when_number(table, operator, column, value, value_type):\n",
    "    if value_type == \"float\":\n",
    "        correct_value = float(value)\n",
    "    elif value_type == \"int\":\n",
    "        correct_value = int(value)\n",
    "    \n",
    "    correct_operator = operator if operator != \":\" else \"=\"\n",
    "    query = f\"{table}.{column} {operator} {str(correct_value)}\"\n",
    "    return query\n"
   ]
  },
  {
   "cell_type": "code",
   "execution_count": 302,
   "metadata": {},
   "outputs": [],
   "source": [
    "def handle_query_when_array(table, column, value, command, operator):\n",
    "    query = \"\"\n",
    "    value = value.replace('\"',\"\")\n",
    "    elements_included = \" AND \".join([f\"{table}.{column} LIKE '%{char}%'\" for char in value])\n",
    "    match operator:\n",
    "        case \">=\" | \":\":\n",
    "            length = \"\"\n",
    "            query = f\"\"\"{elements_included}\"\"\"\n",
    "        case \">\":\n",
    "            length = f'length({table}.{column}) > {len(value) + (len(value)-1)}'\n",
    "            query = f\"\"\"{length} AND {elements_included}\"\"\"\n",
    "        case \"=\":\n",
    "            length = f'length({table}.{column}) = {len(value) + (len(value)-1)}'\n",
    "            query = f\"\"\"{length} AND {elements_included}\"\"\"\n",
    "        case \"<\":\n",
    "            length = f'length({table}.{column}) < {len(value) + (len(value)-1)}'\n",
    "            query = f\"\"\"{length} AND ({\" OR \".join([f\"{table}.{column} LIKE '%{char}%'\" for char in value])} OR length({table}.{column}) = 0)\"\"\"\n",
    "        case \"<=\":\n",
    "            length = f'length({table}.{column}) = {len(value) + (len(value)-1)}'\n",
    "            query = f\"\"\"{\" OR \".join([f\"(length({table}.{column}) = 1 and instr({table}.{column}, '{char.upper()}') = 1)\" for char in value])} OR (length({table}.{column}) = 0) OR ({length} AND {elements_included}\"\"\"[:-5]+\") AND \"\n",
    "\n",
    "    return f\"NOT ({query})\" if command.find('-') > -1 else query"
   ]
  },
  {
   "cell_type": "code",
   "execution_count": 297,
   "metadata": {},
   "outputs": [],
   "source": [
    "def handle_query_when_string(table, column, value, command, operator):\n",
    "    value = value.replace('\"',\"\")\n",
    "    query = f\"{table}.{column} {'LIKE' if command.find('-') == -1 else 'NOT LIKE'} '%{value}%'\"\n",
    "    return query"
   ]
  },
  {
   "cell_type": "code",
   "execution_count": 7,
   "metadata": {},
   "outputs": [],
   "source": [
    "def handle_query_when_date(table, operator, column, value, command):\n",
    "    value = value.replace('\"',\"\")\n",
    "    query = \"\"\n",
    "    correct_operator = operator if operator != \":\" else \"=\"\n",
    "    if command == \"year\":\n",
    "        query = f\"CAST(STRFTIME('%Y',{table}.{column}) AS INT) {correct_operator} {str(int(value))}\"\n",
    "    else:\n",
    "        query = f\"{table}.{column} {correct_operator} '{str(value)}'\"\n",
    "    return query"
   ]
  },
  {
   "cell_type": "code",
   "execution_count": 9,
   "metadata": {},
   "outputs": [],
   "source": [
    "def handle_query_when_prices(operator, column, value):\n",
    "    value = float(value)\n",
    "    correct_operator = operator if operator != \":\" else \"=\"\n",
    "    query = f\"cast(prices.{column} as float) {correct_operator} {str(value)}\"\n",
    "    return query"
   ]
  },
  {
   "cell_type": "code",
   "execution_count": 316,
   "metadata": {},
   "outputs": [],
   "source": [
    "def handle_query_when_multiple_columns(table, columns, value):\n",
    "    # \"set\" LIKE 'dom' OR set_name LIKE 'dom'\n",
    "    query = \" OR \".join([f\"{table}.{column} LIKE '{value}'\" for column in columns])\n",
    "    return query"
   ]
  },
  {
   "cell_type": "code",
   "execution_count": 10,
   "metadata": {},
   "outputs": [],
   "source": [
    "def handle_query_when_format(operator, column, value):\n",
    "    correct_operator = operator if operator != \":\" else \"=\"\n",
    "    query = f\"\"\n",
    "    return query"
   ]
  },
  {
   "cell_type": "code",
   "execution_count": 125,
   "metadata": {},
   "outputs": [],
   "source": [
    "def construct_query_join(table_name):\n",
    "    join_query = f\"\"\"INNER JOIN {table_name}_table as {table_name} ON main.id = {table_name}.card_id \"\"\"\n",
    "    return join_query"
   ]
  },
  {
   "cell_type": "code",
   "execution_count": 73,
   "metadata": {},
   "outputs": [],
   "source": [
    "def split_query(query_string):\n",
    "    result = []\n",
    "    separators = [\" \", \";\"]\n",
    "    flag = False\n",
    "    last_idx = 0\n",
    "    for idx, char in enumerate(query_string):\n",
    "        if char == '\"':\n",
    "            flag = True if not flag else False\n",
    "\n",
    "        if not flag:\n",
    "            if char in separators:\n",
    "                result.append(query_string[last_idx:idx])\n",
    "                last_idx = idx+1\n",
    "    \n",
    "    result.append(query_string[last_idx:])\n",
    "    result = [element for element in result if len(element) > 0]\n",
    "    return result"
   ]
  },
  {
   "cell_type": "code",
   "execution_count": 76,
   "metadata": {},
   "outputs": [
    {
     "data": {
      "text/plain": [
       "['eur>3.5', 'o:\"double strike\"', 'c:r,g', 'o:\"haste\"']"
      ]
     },
     "execution_count": 76,
     "metadata": {},
     "output_type": "execute_result"
    }
   ],
   "source": [
    "query_string = 'eur>3.5 o:\"double strike\"   c:r,g o:\"haste\"'\n",
    "split_query(query_string)\n",
    "#['o:\"double strike\"', 'eur>3.5']"
   ]
  },
  {
   "cell_type": "code",
   "execution_count": 317,
   "metadata": {},
   "outputs": [],
   "source": [
    "def construct_query_when(query_string):\n",
    "    query_array = []\n",
    "    query_elements = split_query(query_string)\n",
    "\n",
    "    for element in query_elements:\n",
    "        operator = decide_operator(element)\n",
    "        element_array = element.split(operator)\n",
    "        argument = element_array[0]\n",
    "        value = element_array[1]\n",
    "     \n",
    "        for translation in QUERY_TRANSLATE:\n",
    "            translation_commands = translation[\"query_command\"]\n",
    "            translation_commands_negative = [f\"-{element}\" for element in translation_commands]\n",
    "            if argument in translation_commands or argument in translation_commands_negative:\n",
    "                table_name = translation[\"table_name\"]\n",
    "                if translation[\"table_type\"] == \"main\":\n",
    "                    if len(translation[\"columns\"]) == 1:\n",
    "                        column = translation[\"columns\"][0]\n",
    "                        column_name = column[\"name\"]\n",
    "                        column_type = column[\"type\"]\n",
    "                        \n",
    "                        if column_type in ['float', 'int']:\n",
    "                            query = handle_query_when_number(table_name, operator, column_name, value, column_type)\n",
    "                            query_array.append(query)\n",
    "                        elif column_type in ['datetime']:\n",
    "                            query = handle_query_when_date(table_name, operator, column_name, value, argument)\n",
    "                            query_array.append(query)\n",
    "                        else:\n",
    "                            query = handle_query_when_string(table_name, column_name, value, argument, operator)\n",
    "                            query_array.append(query)\n",
    "                    else:\n",
    "                        column_list = list(map(lambda ele: ele['name'], translation[\"columns\"]))\n",
    "                        query = handle_query_when_multiple_columns(table_name, column_list, value)\n",
    "                        query_array.append(query)\n",
    "                            \n",
    "                # elif translation[\"table_type\"] == \"array\":\n",
    "                #     values = value.split(\",\")\n",
    "                #     query = \"\"\n",
    "                #     for value in values:\n",
    "                #         query += handle_query_when_array(table_name, value, argument)\n",
    "                #     where_query += query\n",
    "\n",
    "                elif translation[\"table_type\"] == \"array\":\n",
    "                    query = handle_query_when_array(table_name,'array_value', value, argument, operator)\n",
    "                    query_array.append(query)\n",
    "\n",
    "                elif translation[\"table_type\"] == \"object\":\n",
    "                    match table_name:\n",
    "                        case \"prices\":\n",
    "                            query = handle_query_when_prices(operator, argument, value)\n",
    "                            query_array.append(query)\n",
    "\n",
    "    return f\"WHERE {' AND '.join(query_array)}\""
   ]
  },
  {
   "cell_type": "code",
   "execution_count": 322,
   "metadata": {},
   "outputs": [
    {
     "name": "stdout",
     "output_type": "stream",
     "text": [
      "WHERE main.\"set\" LIKE 'ixalia' OR main.set_name LIKE 'ixalia'\n"
     ]
    }
   ],
   "source": [
    "query_string = \"set:ixalia\"\n",
    "\n",
    "print(construct_query_when(query_string))"
   ]
  },
  {
   "cell_type": "code",
   "execution_count": 134,
   "metadata": {},
   "outputs": [],
   "source": [
    "query_string = 'color:r,g -color:w'\n",
    "def construct_query(query_string=None):\n",
    "    query = 'SELECT id FROM main_table main '\n",
    "    query_commands = list(set([element.split(\":\")[0] for element in split_query(query_string)]))\n",
    "\n",
    "    tables_to_include = []\n",
    "    for element in query_commands:\n",
    "        for record in QUERY_TRANSLATE:\n",
    "            if element in record['query_command'] and record['table_type'] != \"main\":\n",
    "                tables_to_include.append(record['table_name'])\n",
    "\n",
    "    for table in tables_to_include:\n",
    "        join_query = construct_query_join(table)\n",
    "        query += join_query\n",
    "    \n",
    "    query += construct_query_when(query_string)\n",
    "    \n",
    "    return query"
   ]
  },
  {
   "cell_type": "code",
   "execution_count": 142,
   "metadata": {},
   "outputs": [
    {
     "data": {
      "text/plain": [
       "\"SELECT id FROM main_table main INNER JOIN colors_table as colors ON main.id = colors.card_id WHERE CAST(STRFTIME('%Y',main.released_at) AS INT) > 2010 AND colors.array_value LIKE '%g%' AND colors.array_value LIKE '%w%' \""
      ]
     },
     "execution_count": 142,
     "metadata": {},
     "output_type": "execute_result"
    }
   ],
   "source": [
    "query_string = 'year>2010 c:gw'\n",
    "construct_query(query_string)"
   ]
  }
 ],
 "metadata": {
  "kernelspec": {
   "display_name": "Python 3.10.7 64-bit",
   "language": "python",
   "name": "python3"
  },
  "language_info": {
   "codemirror_mode": {
    "name": "ipython",
    "version": 3
   },
   "file_extension": ".py",
   "mimetype": "text/x-python",
   "name": "python",
   "nbconvert_exporter": "python",
   "pygments_lexer": "ipython3",
   "version": "3.10.7"
  },
  "orig_nbformat": 4,
  "vscode": {
   "interpreter": {
    "hash": "df98e1c48961a90eb32c90b72cdc994c7663940ed7de2426fd710eb65feea35f"
   }
  }
 },
 "nbformat": 4,
 "nbformat_minor": 2
}
