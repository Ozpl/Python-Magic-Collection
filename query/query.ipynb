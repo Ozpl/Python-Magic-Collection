{
 "cells": [
  {
   "cell_type": "code",
   "execution_count": 71,
   "metadata": {},
   "outputs": [],
   "source": [
    "QUERY_TRANSLATE = [\n",
    "    {\n",
    "        \"table_name\": \"colors\",\n",
    "        \"table_type\": \"array\",\n",
    "        \"query_command\": [\"color\", \"c\"]\n",
    "    },\n",
    "\n",
    "    {\n",
    "        \"table_name\": \"color_identity\",\n",
    "        \"table_type\": \"array\",\n",
    "        \"query_command\": [\"id\", \"identity\"]\n",
    "    },\n",
    "\n",
    "    {\n",
    "        \"table_name\": \"main_table\",\n",
    "        \"table_type\": \"main\",\n",
    "        \"columns\": [{'name': 'type_line', 'type': 'string'}],\n",
    "        \"query_command\": [\"t\", \"type\"]\n",
    "    },\n",
    "\n",
    "    {\n",
    "        \"table_name\": \"main_table\",\n",
    "        \"table_type\": \"main\",\n",
    "        \"columns\": [{'name': '\"set\"', 'type': 'string'}, {'name':'set_name', 'type': 'string'}],\n",
    "        \"query_command\": [\"e\", \"edition\", \"s\", \"set\"]\n",
    "    },\n",
    "\n",
    "    {\n",
    "        \"table_name\": \"main_table\",\n",
    "        \"table_type\": \"main\",\n",
    "        \"columns\": [{'name': 'rarity', 'type': 'string'}],\n",
    "        \"query_command\": [\"r\", \"rarity\"]\n",
    "    },\n",
    "\n",
    "    {\n",
    "        \"table_name\": \"main_table\",\n",
    "        \"table_type\": \"main\",\n",
    "        \"columns\": [{'name': 'cmc', 'type': 'float'}],\n",
    "        \"query_command\": [\"cmc\", \"mv\", \"manavalue\"]\n",
    "    },\n",
    "\n",
    "    {\n",
    "        \"table_name\": \"main_table\",\n",
    "        \"table_type\": \"main\",\n",
    "        \"columns\": [{'name': 'oracle_text', 'type': 'string'}],\n",
    "        \"query_command\": [\"o\", \"oracle\"]\n",
    "    },\n",
    "\n",
    "    {\n",
    "        \"table_name\": \"prices\",\n",
    "        \"table_type\": \"object\",\n",
    "        \"columns\": [{'name': 'usd', 'type': 'float'}, {'name':'eur', 'type': 'float'}, {'name':'tix', 'type': 'float'}],\n",
    "        \"query_command\": [\"eur\", \"usd\", \"tix\"]\n",
    "    },\n",
    "\n",
    "    {\n",
    "        \"table_name\": \"games\",\n",
    "        \"table_type\": \"array\",\n",
    "        \"query_command\": [\"game\"]\n",
    "    },\n",
    "\n",
    "    {\n",
    "        \"table_name\": \"keywords\",\n",
    "        \"table_type\": \"array\",\n",
    "        \"query_command\": [\"keyword\"]\n",
    "    },\n",
    "\n",
    "    {\n",
    "        \"table_name\": \"main_table\",\n",
    "        \"table_type\": \"main\",\n",
    "        \"columns\": [{'name': 'released_at', 'type': 'datetime'}],\n",
    "        \"query_command\": [\"date\", \"year\"]\n",
    "    },\n",
    "\n",
    "]"
   ]
  },
  {
   "cell_type": "code",
   "execution_count": 7,
   "metadata": {},
   "outputs": [],
   "source": [
    "def decide_operator(query_string):\n",
    "    operator = \"\"\n",
    "    if \">=\" in query_string:\n",
    "        operator = \">=\"\n",
    "    elif \"<=\" in query_string:\n",
    "        operator = \"<=\"\n",
    "    elif \">\" in query_string:\n",
    "        operator = \">\"\n",
    "    elif \"<\" in query_string:\n",
    "        operator = \"<\"\n",
    "    elif \":\" in query_string:\n",
    "        operator = \":\"\n",
    "\n",
    "    return operator"
   ]
  },
  {
   "cell_type": "code",
   "execution_count": 35,
   "metadata": {},
   "outputs": [],
   "source": [
    "def handle_query_when_number(table, operator, column, value, value_type):\n",
    "    if value_type == \"float\":\n",
    "        correct_value = float(value)\n",
    "    elif value_type == \"int\":\n",
    "        correct_value = int(value)\n",
    "    \n",
    "    correct_operator = operator if operator != \":\" else \"=\"\n",
    "    query = f\"{table}.{column} {operator} {str(correct_value)} AND \"\n",
    "    return query\n"
   ]
  },
  {
   "cell_type": "code",
   "execution_count": 96,
   "metadata": {},
   "outputs": [],
   "source": [
    "def handle_query_when_string(table, column, value, command):\n",
    "    value = value.replace('\"',\"\")\n",
    "    query = f\"{table}.{column} {'LIKE' if command.find('-') == -1 else 'NOT LIKE'} '%{value}%' AND \"\n",
    "    return query"
   ]
  },
  {
   "cell_type": "code",
   "execution_count": 83,
   "metadata": {},
   "outputs": [],
   "source": [
    "def handle_query_when_date(table, operator, column, value, command):\n",
    "    value = value.replace('\"',\"\")\n",
    "    query = \"\"\n",
    "    correct_operator = operator if operator != \":\" else \"=\"\n",
    "    if command == \"year\":\n",
    "        query = f\"CAST(STRFTIME('%Y',{table}.{column}) AS INT) {correct_operator} {str(int(value))} AND \"\n",
    "    else:\n",
    "        query = f\"{table}.{column} {correct_operator} '{str(value)}' AND \"\n",
    "    return query"
   ]
  },
  {
   "cell_type": "code",
   "execution_count": 110,
   "metadata": {},
   "outputs": [],
   "source": [
    "def handle_query_when_array(table, value, command):\n",
    "    query = f\"{table}.array_value {'LIKE' if command.find('-') == -1 else 'NOT LIKE'} '%{value}%' AND \"\n",
    "    return query"
   ]
  },
  {
   "cell_type": "code",
   "execution_count": 44,
   "metadata": {},
   "outputs": [],
   "source": [
    "def handle_query_when_prices(operator, column, value):\n",
    "    value = float(value)\n",
    "    correct_operator = operator if operator != \":\" else \"=\"\n",
    "    query = f\"cast(prices.{column} as float) {correct_operator} {str(value)} AND \"\n",
    "    return query"
   ]
  },
  {
   "cell_type": "code",
   "execution_count": 54,
   "metadata": {},
   "outputs": [],
   "source": [
    "def handle_query_when_format(operator, column, value):\n",
    "    correct_operator = operator if operator != \":\" else \"=\"\n",
    "    query = f\"cast(prices.{column} as float) {correct_operator} {str(value)} AND \"\n",
    "    return query"
   ]
  },
  {
   "cell_type": "code",
   "execution_count": 4,
   "metadata": {},
   "outputs": [],
   "source": [
    "def construct_query_join(table_name):\n",
    "    join_query = f\"\"\"\n",
    "    INNER JOIN {table_name}_table as {table_name}\n",
    "    ON main.id = {table_name}.card_id\n",
    "    \"\"\"\n",
    "    return join_query"
   ]
  },
  {
   "cell_type": "code",
   "execution_count": 114,
   "metadata": {},
   "outputs": [],
   "source": [
    "def construct_query_when(query_string):\n",
    "    where_query = \"WHERE \"\n",
    "    query_elements = query_string.split(\"  \")\n",
    "    for element in query_elements:\n",
    "        operator = decide_operator(element)\n",
    "        element_array = element.split(operator)\n",
    "        argument = element_array[0]\n",
    "        value = element_array[1]\n",
    "     \n",
    "        for translation in QUERY_TRANSLATE:\n",
    "            translation_commands = translation[\"query_command\"]\n",
    "            translation_commands_negative = [f\"-{element}\" for element in translation_commands]\n",
    "            if argument in translation_commands or argument in translation_commands_negative:\n",
    "                table_name = translation[\"table_name\"]\n",
    "                if translation[\"table_type\"] == \"main\":\n",
    "                    if len(translation[\"columns\"]) == 1:\n",
    "                        column = translation[\"columns\"][0]\n",
    "                        column_name = column[\"name\"]\n",
    "                        column_type = column[\"type\"]\n",
    "                        \n",
    "                        if column_type in ['float', 'int']:\n",
    "                            query = handle_query_when_number(table_name, operator, column_name, value, column_type)\n",
    "                            where_query += query\n",
    "                        elif column_type in ['datetime']:\n",
    "                            query = handle_query_when_date(table_name, operator, column_name, value, argument)\n",
    "                            where_query += query\n",
    "                        else:\n",
    "                            print(argument)\n",
    "                            query = handle_query_when_string(table_name, column_name, value, argument)\n",
    "                            where_query += query\n",
    "                            \n",
    "                elif translation[\"table_type\"] == \"array\":\n",
    "                    values = value.split(\",\")\n",
    "                    query = \"\"\n",
    "                    for value in values:\n",
    "                        query += handle_query_when_array(table_name, value, argument)\n",
    "                    where_query += query\n",
    "\n",
    "                elif translation[\"table_type\"] == \"object\":\n",
    "                    match table_name:\n",
    "                        case \"prices\":\n",
    "                            query = handle_query_when_prices(operator, argument, value)\n",
    "                            where_query += query\n",
    "\n",
    "    where_query = where_query[:-4]            \n",
    "    return where_query"
   ]
  },
  {
   "cell_type": "code",
   "execution_count": 117,
   "metadata": {},
   "outputs": [
    {
     "name": "stdout",
     "output_type": "stream",
     "text": [
      "rarity\n"
     ]
    },
    {
     "data": {
      "text/plain": [
       "\"WHERE main_table.rarity LIKE '%mythic%' \""
      ]
     },
     "execution_count": 117,
     "metadata": {},
     "output_type": "execute_result"
    }
   ],
   "source": [
    "query_string = 'rarity:mythic'\n",
    "construct_query_when(query_string)"
   ]
  },
  {
   "cell_type": "code",
   "execution_count": 47,
   "metadata": {},
   "outputs": [],
   "source": [
    "query_string = 'color:r,g -color:w'\n",
    "def construct_query(query_string=None):\n",
    "    query = 'SELECT id FROM main_table'\n",
    "    query_commands = list(set([element.split(\":\")[0] for element in query_string.split(\" \")]))\n",
    "\n",
    "    tables_to_include = []\n",
    "    for element in query_commands:\n",
    "        for record in QUERY_TRANSLATE:\n",
    "            if element in record['query_command']:\n",
    "                tables_to_include.append(record['table_name'])\n",
    "\n",
    "    for table in tables_to_include:\n",
    "        join_query = construct_query_join(table)\n",
    "        query += join_query\n",
    "    \n",
    "    return query"
   ]
  },
  {
   "cell_type": "code",
   "execution_count": 24,
   "metadata": {},
   "outputs": [
    {
     "data": {
      "text/plain": [
       "'SELECT id FROM main_table\\n    INNER JOIN prices_table as prices\\n    ON main.id = prices.card_id\\n    \\n    INNER JOIN colors_table as colors\\n    ON main.id = colors.card_id\\n    '"
      ]
     },
     "execution_count": 24,
     "metadata": {},
     "output_type": "execute_result"
    }
   ],
   "source": [
    "\n",
    "construct_query(query_string)"
   ]
  }
 ],
 "metadata": {
  "kernelspec": {
   "display_name": "Python 3.10.7 64-bit",
   "language": "python",
   "name": "python3"
  },
  "language_info": {
   "codemirror_mode": {
    "name": "ipython",
    "version": 3
   },
   "file_extension": ".py",
   "mimetype": "text/x-python",
   "name": "python",
   "nbconvert_exporter": "python",
   "pygments_lexer": "ipython3",
   "version": "3.10.7"
  },
  "orig_nbformat": 4,
  "vscode": {
   "interpreter": {
    "hash": "df98e1c48961a90eb32c90b72cdc994c7663940ed7de2426fd710eb65feea35f"
   }
  }
 },
 "nbformat": 4,
 "nbformat_minor": 2
}
