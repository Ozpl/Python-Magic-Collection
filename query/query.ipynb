{
 "cells": [
  {
   "cell_type": "code",
   "execution_count": 6,
   "metadata": {},
   "outputs": [],
   "source": [
    "QUERY_TRANSLATE = [\n",
    "    {   #TODO: kolory\n",
    "        \"columns\": [\"colors\"],\n",
    "        \"type\": \"array\",\n",
    "        \"query_command\": [\"color\", \"c\"]\n",
    "    },\n",
    "\n",
    "    {   #TODO: kolory\n",
    "        \"columns\": [\"color_identity\"],\n",
    "        \"type\": \"array\",\n",
    "        \"query_command\": [\"id\", \"identity\"]\n",
    "    },\n",
    "\n",
    "    {\n",
    "        \"columns\": [\"type_line\"],\n",
    "        \"type\": \"string\",\n",
    "        \"query_command\": [\"t\", \"type\"]\n",
    "    },\n",
    "\n",
    "    {\n",
    "        \"columns\": [\"set\", \"set_name\"],\n",
    "        \"type\": \"string\",\n",
    "        \"query_command\": [\"e\", \"edition\", \"s\", \"set\"]\n",
    "    },\n",
    "\n",
    "    {\n",
    "        #TODO: needs to have 3 operator: :/=, >=, < xd\n",
    "        \"columns\": [\"rarity\"],\n",
    "        \"type\": \"string\",\n",
    "        \"query_command\": [\"r\", \"rarity\"]\n",
    "    },\n",
    "\n",
    "    {\n",
    "        \"columns\": [\"cmc\"],\n",
    "        \"type\": \"float\",\n",
    "        \"query_command\": [\"cmc\", \"mv\", \"manavalue\"]\n",
    "    },\n",
    "\n",
    "    {\n",
    "        \"columns\": [\"oracle_text\"],\n",
    "        \"type\": \"string\",\n",
    "        \"query_command\": [\"o\", \"oracle\"]\n",
    "    },\n",
    "\n",
    "    {\n",
    "        \"columns\": [\"prices\"],\n",
    "        \"type\": \"object\",\n",
    "        \"query_command\": [\"eur\", \"usd\", \"tix\"]\n",
    "    },\n",
    "\n",
    "    {\n",
    "        \"columns\": [\"games\"],\n",
    "        \"type\": \"array\",\n",
    "        \"query_command\": [\"game\", \"games\"]\n",
    "    },\n",
    "\n",
    "    {\n",
    "        \"columns\": [\"keywords\"],\n",
    "        \"type\": \"array\",\n",
    "        \"query_command\": [\"keyword\"]\n",
    "    },\n",
    "\n",
    "    {\n",
    "        \"columns\": [\"released_at\"],\n",
    "        \"type\": \"datetime\",\n",
    "        \"query_command\": [\"date\", \"year\"]\n",
    "    },\n",
    "\n",
    "]"
   ]
  },
  {
   "cell_type": "code",
   "execution_count": 51,
   "metadata": {},
   "outputs": [],
   "source": [
    "def decide_operator(query_string:str) -> str:\n",
    "    operator = \"\"\n",
    "    if \">=\" in query_string:\n",
    "        operator = \">=\"\n",
    "    elif \"<=\" in query_string:\n",
    "        operator = \"<=\"\n",
    "    elif \">\" in query_string:\n",
    "        operator = \">\"\n",
    "    elif \"<\" in query_string:\n",
    "        operator = \"<\"\n",
    "    elif \":\" in query_string:\n",
    "        operator = \":\"\n",
    "    elif \"=\" in query_string:\n",
    "        operator = \"=\"\n",
    "\n",
    "    return operator"
   ]
  },
  {
   "cell_type": "code",
   "execution_count": 8,
   "metadata": {},
   "outputs": [],
   "source": [
    "def split_query(query_string:str) -> list:\n",
    "    result = []\n",
    "    separators = [\" \", \";\"]\n",
    "    flag = False\n",
    "    last_idx = 0\n",
    "    for idx, char in enumerate(query_string):\n",
    "        if char == '\"':\n",
    "            flag = True if not flag else False\n",
    "\n",
    "        if not flag:\n",
    "            if char in separators:\n",
    "                result.append(query_string[last_idx:idx])\n",
    "                last_idx = idx+1\n",
    "    \n",
    "    result.append(query_string[last_idx:])\n",
    "    result = [element for element in result if len(element) > 0]\n",
    "    return result"
   ]
  },
  {
   "cell_type": "code",
   "execution_count": 9,
   "metadata": {},
   "outputs": [],
   "source": [
    "def handle_query_when_number(table:str, operator:str, column:str, value:str, value_type:str) -> str:\n",
    "    if value_type == \"float\":\n",
    "        correct_value = float(value)\n",
    "    elif value_type == \"int\":\n",
    "        correct_value = int(value)\n",
    "    \n",
    "    correct_operator = operator if operator != \":\" else \"=\"\n",
    "    query = f\"{table}.{column} {correct_operator} {str(correct_value)}\"\n",
    "    return query\n"
   ]
  },
  {
   "cell_type": "code",
   "execution_count": 10,
   "metadata": {},
   "outputs": [],
   "source": [
    "def handle_query_when_string(table:str, column:str, value:str, command:str, operator:str) -> str:\n",
    "    value = value.replace('\"',\"\")\n",
    "    query = f\"{table}.{column} {'LIKE' if command.find('-') == -1 else 'NOT LIKE'} '%{value}%'\"\n",
    "    return query"
   ]
  },
  {
   "cell_type": "code",
   "execution_count": 11,
   "metadata": {},
   "outputs": [],
   "source": [
    "def handle_query_when_string_multiple_columns(table:str, columns:str, value:str, command:str) -> str:\n",
    "    # \"set\" LIKE 'dom' OR set_name LIKE 'dom'\n",
    "    value = value.replace('\"',\"\")\n",
    "    query = \" OR \".join([f\"{table}.{column} {'LIKE' if command.find('-') == -1 else 'NOT LIKE'} '{value}'\" for column in columns])\n",
    "    return query"
   ]
  },
  {
   "cell_type": "code",
   "execution_count": 12,
   "metadata": {},
   "outputs": [],
   "source": [
    "def handle_query_when_string_array(table:str, column:str, value:str, command:str, operator:str) -> str:\n",
    "    values = value.replace('\"',\"\").split(\",\")\n",
    "    query = \" AND \".join([f\"{table}.{column} {'LIKE' if command.find('-') == -1 else 'NOT LIKE'} '%{value}%'\" for value in values])\n",
    "    return query"
   ]
  },
  {
   "cell_type": "code",
   "execution_count": 41,
   "metadata": {},
   "outputs": [],
   "source": [
    "def handle_query_when_color_array(table:str, column:str, value:str, command:str, operator: str):\n",
    "    query = \"\"\n",
    "    value = value.replace('\"',\"\")\n",
    "    elements_included = \" AND \".join([f\"{table}.{column} LIKE '%{char}%'\" for char in value])\n",
    "    length = f\"\"\"json_array_length(json(replace({table}.{column}, \"'\", '\"')))\"\"\"\n",
    "    match operator:\n",
    "        case \">=\" | \":\":\n",
    "            query = f\"\"\"{elements_included}\"\"\"\n",
    "        case \">\" | \"=\":\n",
    "            query = f\"\"\"{length} {operator} {len(value)} AND {elements_included}\"\"\"\n",
    "        case \"<\":\n",
    "            query = f\"\"\"{length} < {len(value)} AND ({\" OR \".join([f\"{table}.{column} LIKE '%{char}%'\" for char in value])} OR {length} = 0)\"\"\"\n",
    "        case \"<=\":\n",
    "            extract = f\"\"\"json_extract(json(replace({table}.{column}, \"'\", '\"')), '$[0]')\"\"\"\n",
    "            query = f\"\"\"{\" OR \".join([f\"({length} = 1 and {extract} = '{char.upper()}')\" for char in value])} OR ({length} = 0) OR ({length} = {len(value)} AND {elements_included})\"\"\"\n",
    "\n",
    "    return f\"NOT ({query})\" if command.find('-') > -1 else query"
   ]
  },
  {
   "cell_type": "code",
   "execution_count": 64,
   "metadata": {},
   "outputs": [],
   "source": [
    "def handle_query_when_object_prices(table:str, column:str, value:str, command:str, operator:str) -> str:\n",
    "    value = value.replace('\"',\"\")\n",
    "    correct_operator = operator if operator != \":\" else \"=\"\n",
    "    query = f\"\"\"IIF(cast(json_extract(json(replace(replace(prices, \"'\", '\"'), \"None\", \"null\")), '$.{command}') as float) is not null, cast(json_extract(json(replace(replace(prices, \"'\", '\"'), \"None\", \"null\")), '$.{command}') as float) {correct_operator} {value}, iif(cast(json_extract(json(replace(replace(prices, \"'\", '\"'), \"None\", \"null\")), '$.{command}_foil') as float) is not null, cast(json_extract(json(replace(replace(prices, \"'\", '\"'), \"None\", \"null\")), '$.{command}_foil') as float) {correct_operator} {value}, cast(json_extract(json(replace(replace(prices, \"'\", '\"'), \"None\", \"null\")), '$.{command}_etched') as float) {correct_operator} {value}))\"\"\"\n",
    "    return query"
   ]
  },
  {
   "cell_type": "code",
   "execution_count": 16,
   "metadata": {},
   "outputs": [],
   "source": [
    "def handle_query_when_date(table:str, operator:str, column:str, value:str, command:str) -> str:\n",
    "    value = value.replace('\"',\"\")\n",
    "    query = \"\"\n",
    "    correct_operator = operator if operator != \":\" else \"=\"\n",
    "    if command == \"year\":\n",
    "        query = f\"CAST(STRFTIME('%Y',{table}.{column}) AS INT) {correct_operator} {str(int(value))}\"\n",
    "    else:\n",
    "        query = f\"{table}.{column} {correct_operator} '{str(value)}'\"\n",
    "    return query"
   ]
  },
  {
   "cell_type": "code",
   "execution_count": 17,
   "metadata": {},
   "outputs": [],
   "source": [
    "def construct_like_value(table_name:str, column_name:str, words:str) -> str:\n",
    "    like_value = \" AND \".join([f\"{table_name}.{column_name} LIKE '%{word}%'\" for word in words])\n",
    "    return like_value"
   ]
  },
  {
   "cell_type": "code",
   "execution_count": 18,
   "metadata": {},
   "outputs": [],
   "source": [
    "def handle_query_when_no_operator(table_name:str, default_columns:list, value:str) -> str:\n",
    "    words = value.split(\" \")\n",
    "    query = \" OR \".join([f\"({construct_like_value(table_name, column, words)})\" for column in default_columns])\n",
    "    return query"
   ]
  },
  {
   "cell_type": "code",
   "execution_count": 49,
   "metadata": {},
   "outputs": [],
   "source": [
    "def construct_query_when(query_string:str) -> str:\n",
    "    table_name = get_database_table_name()\n",
    "    #FIXME: add below to globals\n",
    "    default_columns = ['name', 'type_line', 'oracle_text'] # columns that will be searched when there was no argument provided\n",
    "    query_array = []\n",
    "    query_elements = split_query(query_string)\n",
    "\n",
    "    for element in query_elements:\n",
    "        operator = decide_operator(element)\n",
    "        try:\n",
    "            print(operator)\n",
    "            element_array = element.split(operator)\n",
    "        except ValueError:\n",
    "            print('dupeczka')\n",
    "            query = handle_query_when_no_operator(table_name, default_columns, query_string)\n",
    "            return f\"WHERE {query}\"\n",
    "            \n",
    "        argument = element_array[0]\n",
    "        value = element_array[1]\n",
    "     \n",
    "        for translation in QUERY_TRANSLATE:\n",
    "            translation_commands = translation[\"query_command\"]\n",
    "            translation_commands_negative = [f\"-{element}\" for element in translation_commands] #commands found in translation dictionary, but negated\n",
    "            if argument in translation_commands or argument in translation_commands_negative:\n",
    "                column_type = translation[\"type\"]\n",
    "                print(translation[\"type\"], translation[\"columns\"])\n",
    "\n",
    "                if column_type not in [\"array\", \"object\"]:\n",
    "                    if len(translation[\"columns\"]) == 1:\n",
    "                        column_name = translation[\"columns\"][0]\n",
    "                        if column_type in [\"float\", \"int\"]:\n",
    "                            query = handle_query_when_number(table_name, operator, column_name, value, column_type)\n",
    "                            query_array.append(query)\n",
    "                        elif column_type in [\"datetime\"]:\n",
    "                            query = handle_query_when_date(table_name, operator, column_name, value, argument)\n",
    "                            query_array.append(query)\n",
    "                        else:\n",
    "                            query = handle_query_when_string(table_name, column_name, value, argument, operator)\n",
    "                            query_array.append(query)\n",
    "                    else:\n",
    "                        if column_type in [\"float\", \"int\"]:\n",
    "                            #TODO: there is no use case right now; might be added later in the development\n",
    "                            pass\n",
    "                        elif column_type in [\"datetime\"]:\n",
    "                            #TODO: there is no use case right now; might be added later in the development\n",
    "                            pass\n",
    "                        else:\n",
    "                            query = handle_query_when_string_multiple_columns(table_name, translation[\"columns\"], value, argument)\n",
    "                            query_array.append(query)\n",
    "\n",
    "                else:\n",
    "                    column_name = translation[\"columns\"][0]\n",
    "                    if column_type == \"array\":\n",
    "                        if \"color\" in \",\".join(translation[\"columns\"]):\n",
    "                            query = handle_query_when_color_array(table_name, column_name, value, argument, operator)\n",
    "                            query_array.append(query)\n",
    "                        else:\n",
    "                            query = handle_query_when_string_array(table_name, column_name, value, argument, operator)\n",
    "                            query_array.append(query)\n",
    "                    elif column_type == \"object\":\n",
    "                        if \"prices\" in translation[\"columns\"]:\n",
    "                            query = handle_query_when_object_prices(table_name, column_name, value, argument, operator)\n",
    "                            query_array.append(query)   \n",
    "\n",
    "    return f\"WHERE {' AND '.join(query_array)}\" if query_array else \"\""
   ]
  },
  {
   "cell_type": "code",
   "execution_count": 20,
   "metadata": {},
   "outputs": [],
   "source": [
    "def construct_query(query_string=None):\n",
    "    table_name = get_database_table_name()\n",
    "    query = f'SELECT id FROM {table_name} '\n",
    "\n",
    "    query += construct_query_when(query_string)\n",
    "    return query"
   ]
  },
  {
   "cell_type": "code",
   "execution_count": 78,
   "metadata": {},
   "outputs": [
    {
     "name": "stdout",
     "output_type": "stream",
     "text": [
      ":\n",
      "array ['colors']\n",
      "SELECT id FROM default_cards WHERE NOT (default_cards.colors LIKE '%r%' AND default_cards.colors LIKE '%g%')\n"
     ]
    }
   ],
   "source": [
    "query = '-c:rg'\n",
    "print(construct_query(query))"
   ]
  }
 ],
 "metadata": {
  "kernelspec": {
   "display_name": "Python 3.10.0 64-bit",
   "language": "python",
   "name": "python3"
  },
  "language_info": {
   "codemirror_mode": {
    "name": "ipython",
    "version": 3
   },
   "file_extension": ".py",
   "mimetype": "text/x-python",
   "name": "python",
   "nbconvert_exporter": "python",
   "pygments_lexer": "ipython3",
   "version": "3.10.0"
  },
  "orig_nbformat": 4,
  "vscode": {
   "interpreter": {
    "hash": "7c28d669a7e665ceea4fcf1c52ab88c899e9ae37dda3482f6795c8d4471a9f0e"
   }
  }
 },
 "nbformat": 4,
 "nbformat_minor": 2
}
